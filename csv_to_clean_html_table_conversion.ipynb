{
 "cells": [
  {
   "cell_type": "code",
   "execution_count": 1,
   "metadata": {},
   "outputs": [],
   "source": [
    "import pandas as pd"
   ]
  },
  {
   "cell_type": "code",
   "execution_count": 2,
   "metadata": {},
   "outputs": [
    {
     "data": {
      "text/html": [
       "<div>\n",
       "<style scoped>\n",
       "    .dataframe tbody tr th:only-of-type {\n",
       "        vertical-align: middle;\n",
       "    }\n",
       "\n",
       "    .dataframe tbody tr th {\n",
       "        vertical-align: top;\n",
       "    }\n",
       "\n",
       "    .dataframe thead th {\n",
       "        text-align: right;\n",
       "    }\n",
       "</style>\n",
       "<table border=\"1\" class=\"dataframe\">\n",
       "  <thead>\n",
       "    <tr style=\"text-align: right;\">\n",
       "      <th></th>\n",
       "      <th>Cloudiness</th>\n",
       "      <th>Country</th>\n",
       "      <th>Date</th>\n",
       "      <th>Humidity</th>\n",
       "      <th>Lat</th>\n",
       "      <th>Lng</th>\n",
       "      <th>Max Temp</th>\n",
       "      <th>Wind Speed</th>\n",
       "    </tr>\n",
       "    <tr>\n",
       "      <th>City</th>\n",
       "      <th></th>\n",
       "      <th></th>\n",
       "      <th></th>\n",
       "      <th></th>\n",
       "      <th></th>\n",
       "      <th></th>\n",
       "      <th></th>\n",
       "      <th></th>\n",
       "    </tr>\n",
       "  </thead>\n",
       "  <tbody>\n",
       "    <tr>\n",
       "      <th>Mount Gambier</th>\n",
       "      <td>90</td>\n",
       "      <td>AU</td>\n",
       "      <td>1543874400</td>\n",
       "      <td>72</td>\n",
       "      <td>-37.83</td>\n",
       "      <td>140.78</td>\n",
       "      <td>59.00</td>\n",
       "      <td>5.82</td>\n",
       "    </tr>\n",
       "    <tr>\n",
       "      <th>Bubaque</th>\n",
       "      <td>0</td>\n",
       "      <td>GW</td>\n",
       "      <td>1543876304</td>\n",
       "      <td>96</td>\n",
       "      <td>11.28</td>\n",
       "      <td>-15.83</td>\n",
       "      <td>82.16</td>\n",
       "      <td>4.76</td>\n",
       "    </tr>\n",
       "    <tr>\n",
       "      <th>Hobart</th>\n",
       "      <td>75</td>\n",
       "      <td>AU</td>\n",
       "      <td>1543874400</td>\n",
       "      <td>54</td>\n",
       "      <td>-42.88</td>\n",
       "      <td>147.33</td>\n",
       "      <td>53.60</td>\n",
       "      <td>5.82</td>\n",
       "    </tr>\n",
       "    <tr>\n",
       "      <th>Busselton</th>\n",
       "      <td>32</td>\n",
       "      <td>AU</td>\n",
       "      <td>1543876897</td>\n",
       "      <td>100</td>\n",
       "      <td>-33.64</td>\n",
       "      <td>115.35</td>\n",
       "      <td>64.93</td>\n",
       "      <td>14.16</td>\n",
       "    </tr>\n",
       "    <tr>\n",
       "      <th>Cuamba</th>\n",
       "      <td>80</td>\n",
       "      <td>MZ</td>\n",
       "      <td>1543876898</td>\n",
       "      <td>76</td>\n",
       "      <td>-14.80</td>\n",
       "      <td>36.54</td>\n",
       "      <td>73.25</td>\n",
       "      <td>2.86</td>\n",
       "    </tr>\n",
       "  </tbody>\n",
       "</table>\n",
       "</div>"
      ],
      "text/plain": [
       "               Cloudiness Country        Date  Humidity    Lat     Lng  \\\n",
       "City                                                                     \n",
       "Mount Gambier          90      AU  1543874400        72 -37.83  140.78   \n",
       "Bubaque                 0      GW  1543876304        96  11.28  -15.83   \n",
       "Hobart                 75      AU  1543874400        54 -42.88  147.33   \n",
       "Busselton              32      AU  1543876897       100 -33.64  115.35   \n",
       "Cuamba                 80      MZ  1543876898        76 -14.80   36.54   \n",
       "\n",
       "               Max Temp  Wind Speed  \n",
       "City                                 \n",
       "Mount Gambier     59.00        5.82  \n",
       "Bubaque           82.16        4.76  \n",
       "Hobart            53.60        5.82  \n",
       "Busselton         64.93       14.16  \n",
       "Cuamba            73.25        2.86  "
      ]
     },
     "execution_count": 2,
     "metadata": {},
     "output_type": "execute_result"
    }
   ],
   "source": [
    "\n",
    "weather_df = pd.read_csv('newfile.csv')\n",
    "weather_df=weather_df.set_index('City')\n",
    "weather_df.head()"
   ]
  },
  {
   "cell_type": "code",
   "execution_count": null,
   "metadata": {},
   "outputs": [],
   "source": [
    "\n"
   ]
  },
  {
   "cell_type": "code",
   "execution_count": 3,
   "metadata": {},
   "outputs": [],
   "source": [
    "df_to_html = weather_df.to_html('weather_data.html')\n",
    "df_to_html"
   ]
  },
  {
   "cell_type": "code",
   "execution_count": null,
   "metadata": {},
   "outputs": [],
   "source": []
  }
 ],
 "metadata": {
  "kernelspec": {
   "display_name": "Python 3",
   "language": "python",
   "name": "python3"
  },
  "language_info": {
   "codemirror_mode": {
    "name": "ipython",
    "version": 3
   },
   "file_extension": ".py",
   "mimetype": "text/x-python",
   "name": "python",
   "nbconvert_exporter": "python",
   "pygments_lexer": "ipython3",
   "version": "3.6.6"
  }
 },
 "nbformat": 4,
 "nbformat_minor": 2
}
